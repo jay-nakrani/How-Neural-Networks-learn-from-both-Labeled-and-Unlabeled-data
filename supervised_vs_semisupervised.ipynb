{
  "nbformat": 4,
  "nbformat_minor": 0,
  "metadata": {
    "colab": {
      "provenance": []
    },
    "kernelspec": {
      "name": "python3",
      "display_name": "Python 3"
    },
    "language_info": {
      "name": "python"
    }
  },
  "cells": [
    {
      "cell_type": "markdown",
      "source": [
        "# **A Neural Network that predicts handwritten digits**"
      ],
      "metadata": {
        "id": "Ym_okIc4ox-Y"
      }
    },
    {
      "cell_type": "code",
      "source": [
        "# To import important libraries.\n",
        "\n",
        "import numpy as np\n",
        "import tensorflow as tf\n",
        "from tensorflow import keras\n",
        "import matplotlib.pyplot as plt\n",
        "from sklearn.model_selection import train_test_split\n",
        "from tensorflow.keras.preprocessing.image import ImageDataGenerator"
      ],
      "metadata": {
        "id": "da6-6VjjoVVb"
      },
      "execution_count": 4,
      "outputs": []
    },
    {
      "cell_type": "code",
      "source": [
        "# Function to load MNIST dataset.\n",
        "\n",
        "def load_data():\n",
        "\n",
        "    \"\"\"\n",
        "    This function helps to Load the MNIST dataset and preprocesses it for use in a neural network.\n",
        "\n",
        "    Returns:\n",
        "    - x_train, x_test: Training images, testing images.\n",
        "    - y_train, y_test: Training labels, Testing labels.\n",
        "    \"\"\"\n",
        "\n",
        "    (x_train, y_train), (x_test, y_test) = keras.datasets.mnist.load_data()\n",
        "    x_train, x_test = x_train / 255.0, x_test / 255.0  # To normalize pixel values.\n",
        "\n",
        "    # To flatten images to 1D array.\n",
        "    x_train = x_train.reshape(-1, 784)\n",
        "    x_test = x_test.reshape(-1, 784)\n",
        "\n",
        "    return x_train, y_train, x_test, y_test\n"
      ],
      "metadata": {
        "id": "NIx1W7nwolmX"
      },
      "execution_count": 5,
      "outputs": []
    },
    {
      "cell_type": "code",
      "source": [
        "# Function to split the dataset into a small labeled set and a large unlabeled set.\n",
        "\n",
        "def split_data(x_train, y_train, num_labeled=1000):\n",
        "\n",
        "    \"\"\"\n",
        "    this function helps to split the dataset into a small labeled set and a large unlabeled set.\n",
        "\n",
        "    Parameters:\n",
        "    - x_train: Training images.\n",
        "    - y_train: Training labels.\n",
        "    - num_labeled: Number of labeled samples to include in the labeled set.\n",
        "\n",
        "    Returns:\n",
        "    - x_labeled: Labeled images.\n",
        "    - x_unlabeled: Unlabeled images.\n",
        "    - y_labeled: Labeled labels.\n",
        "    \"\"\"\n",
        "\n",
        "    x_labeled, x_unlabeled, y_labeled, _ = train_test_split(\n",
        "        x_train, y_train, train_size=num_labeled, stratify=y_train\n",
        "    )\n",
        "    return x_labeled, x_unlabeled, y_labeled"
      ],
      "metadata": {
        "id": "oQbwLpEJqn7W"
      },
      "execution_count": 6,
      "outputs": []
    },
    {
      "cell_type": "code",
      "source": [
        "# Function to create a simple Multilayer Neural Network model.\n",
        "\n",
        "def create_model():\n",
        "\n",
        "    \"\"\"\n",
        "    This function helps to create a simple Multilayer Neural Network model for image classification.\n",
        "\n",
        "    Returns:\n",
        "    - model: The compiled Keras model.\n",
        "    \"\"\"\n",
        "\n",
        "    model = keras.Sequential([\n",
        "        keras.layers.Dense(512, activation='relu', input_shape=(784,)),\n",
        "        keras.layers.Dropout(0.3),\n",
        "        keras.layers.Dense(256, activation='relu'),\n",
        "        keras.layers.Dropout(0.3),\n",
        "        keras.layers.Dense(10, activation='softmax')\n",
        "    ])\n",
        "    model.compile(optimizer='adam', loss='sparse_categorical_crossentropy', metrics=['accuracy'])\n",
        "\n",
        "    return model"
      ],
      "metadata": {
        "id": "GsUPOFjp29ds"
      },
      "execution_count": 7,
      "outputs": []
    },
    {
      "cell_type": "code",
      "source": [
        "# Function to train the model using the labeled data.\n",
        "\n",
        "def train_model(model, x_labeled, y_labeled, x_test, y_test, epochs=15, batch_size=32):\n",
        "\n",
        "    \"\"\"\n",
        "    This function helps to train the provided Keras model on the labeled data.\n",
        "\n",
        "    Parameters:\n",
        "    - model: The Keras model to be trained.\n",
        "    - x_labeled: Labeled images.\n",
        "    - y_labeled: Labeled labels.\n",
        "    - x_test: Testing images.\n",
        "    - y_test: Testing labels.\n",
        "\n",
        "    Returns:\n",
        "    - model: Trained model.\n",
        "    \"\"\"\n",
        "\n",
        "    print(\"Training model on labeled data...\")\n",
        "\n",
        "    return model.fit(x_labeled, y_labeled, epochs=epochs, validation_data=(x_test, y_test), batch_size=batch_size)"
      ],
      "metadata": {
        "id": "e1hQIZaw3eB9"
      },
      "execution_count": 8,
      "outputs": []
    },
    {
      "cell_type": "code",
      "source": [
        "# Functon to generate pseudo-labels for the unlabeled data.\n",
        "\n",
        "def generate_pseudo_labels(model, x_unlabeled, threshold=0.80):\n",
        "\n",
        "    \"\"\"\n",
        "    This function helps to generates pseudo-labels for the unlabeled data using the trained model.\n",
        "\n",
        "    Parameters:\n",
        "    - model: The trained Keras model.\n",
        "    - x_unlabeled: Unlabeled images.\n",
        "\n",
        "    Returns:\n",
        "    - x_pseudo: Pseudo-labeled images.\n",
        "    - y_pseudo: Pseudo-labeled labels.\n",
        "    \"\"\"\n",
        "\n",
        "    print(\"Generating pseudo-labels...\")\n",
        "    predictions = model.predict(x_unlabeled)\n",
        "    pseudo_labels = np.argmax(predictions, axis=1)\n",
        "    high_confidence_mask = np.max(predictions, axis=1) > threshold\n",
        "\n",
        "    return x_unlabeled[high_confidence_mask], pseudo_labels[high_confidence_mask]\n"
      ],
      "metadata": {
        "id": "9PNMn8Ly4JsD"
      },
      "execution_count": 9,
      "outputs": []
    },
    {
      "cell_type": "code",
      "source": [
        "# Function to apply data augmentation to the pseudo-labeled data.\n",
        "\n",
        "def augment_data(x_pseudo):\n",
        "\n",
        "    \"\"\"\n",
        "    This function helps to Apply data augmentation to the pseudo-labeled data.\n",
        "\n",
        "    Parameters:\n",
        "    - x_pseudo: Pseudo-labeled images.\n",
        "\n",
        "    Returns:\n",
        "    - x_pseudo_aug: Augmented pseudo-labeled images.\n",
        "    \"\"\"\n",
        "\n",
        "    aug = ImageDataGenerator(\n",
        "        rotation_range=10,\n",
        "        zoom_range=0.1,\n",
        "        width_shift_range=0.1,\n",
        "        height_shift_range=0.1\n",
        "    )\n",
        "    print(\"Applying data augmentation...\")\n",
        "    x_pseudo_aug = np.array([\n",
        "        aug.random_transform(np.expand_dims(img.reshape(28, 28), axis=-1)).squeeze().flatten() for img in x_pseudo\n",
        "    ])\n",
        "\n",
        "    return x_pseudo_aug"
      ],
      "metadata": {
        "id": "Ia9AIhnS4p70"
      },
      "execution_count": 10,
      "outputs": []
    },
    {
      "cell_type": "code",
      "source": [
        "# Function to combine labeled and pseudo-labeled data.\n",
        "\n",
        "def combine_data(x_labeled, y_labeled, x_pseudo_aug, y_pseudo):\n",
        "\n",
        "    \"\"\"\n",
        "    This function helps to combine the labeled and pseudo-labeled data.\n",
        "\n",
        "    Parameters:\n",
        "    - x_labeled: Labeled images.\n",
        "    - y_labeled: Labeled labels.\n",
        "    - x_pseudo_aug: Augmented pseudo-labeled images.\n",
        "    - y_pseudo: Pseudo-labeled labels.\n",
        "\n",
        "    Returns:\n",
        "    - x_combined: Combined images.\n",
        "    - y_combined: Combined labels.\n",
        "    \"\"\"\n",
        "\n",
        "    print(\"Combining labeled and pseudo-labeled datasets...\")\n",
        "\n",
        "    return np.concatenate([x_labeled, x_pseudo_aug]), np.concatenate([y_labeled, y_pseudo])"
      ],
      "metadata": {
        "id": "ojOcnxkP45xj"
      },
      "execution_count": 11,
      "outputs": []
    },
    {
      "cell_type": "code",
      "source": [
        "# Function to retrain the model with the combined data.\n",
        "\n",
        "def retrain_model(model, x_combined, y_combined, x_test, y_test, epochs=15, batch_size=32):\n",
        "\n",
        "    \"\"\"\n",
        "    This function helps to retrain the model with the combined data.\n",
        "\n",
        "    Parameters:\n",
        "    - model: The trained Keras model.\n",
        "    - x_combined: Combined images.\n",
        "    - y_combined: Combined labels.\n",
        "\n",
        "    Returns:\n",
        "    - history: Training history.\n",
        "    \"\"\"\n",
        "\n",
        "    print(\"Retraining model with labeled and pseudo-labeled data...\")\n",
        "\n",
        "    return model.fit(x_combined, y_combined, epochs=epochs, validation_data=(x_test, y_test), batch_size=batch_size)"
      ],
      "metadata": {
        "id": "JSXPNB2-5UMD"
      },
      "execution_count": 12,
      "outputs": []
    },
    {
      "cell_type": "code",
      "source": [
        "# Function to evaluate the final model performance.\n",
        "\n",
        "def evaluate_model(model, x_test, y_test):\n",
        "\n",
        "    \"\"\"\n",
        "    This function helps to evaluate the final model's performance on the test data.\n",
        "\n",
        "    Parameters:\n",
        "    - model: The final trained Keras model.\n",
        "    - x_test: Testing images.\n",
        "    - y_test: Testing labels.\n",
        "    \"\"\"\n",
        "\n",
        "    print(\"Evaluating final model...\")\n",
        "    test_loss, test_acc = model.evaluate(x_test, y_test, verbose=2)\n",
        "    print(f\"Final test accuracy: {test_acc:.4f}\")"
      ],
      "metadata": {
        "id": "Rdzn5dUB6dxL"
      },
      "execution_count": 13,
      "outputs": []
    },
    {
      "cell_type": "code",
      "source": [
        "# Function to plot accuracy comparison.\n",
        "\n",
        "def plot_accuracy(history, history_pseudo):\n",
        "\n",
        "    \"\"\"\n",
        "    This function helps to plot the accuracy comparison between the supervised learning (labeled only)\n",
        "    and semi-supervised learning (with pseudo-labels and augmentation) models.\n",
        "\n",
        "    Parameters:\n",
        "    - history: Training history for the supervised learning model.\n",
        "    - history_pseudo: Training history for the semi-supervised learning model.\n",
        "    \"\"\"\n",
        "\n",
        "    plt.figure(figsize=(8, 5))\n",
        "    plt.plot(history.history['val_accuracy'], label='Supervised Learning (Labeled Only)', marker='o')\n",
        "    plt.plot(history_pseudo.history['val_accuracy'], label='Semi-Supervised Learning (With Pseudo-Labels & Augmentation)', marker='s')\n",
        "    plt.xlabel('Epochs')\n",
        "    plt.ylabel('Validation Accuracy')\n",
        "    plt.title('Accuracy Improvement with Pseudo-Labeling & Data Augmentation')\n",
        "    plt.legend()\n",
        "    plt.grid(True)\n",
        "    plt.show()"
      ],
      "metadata": {
        "id": "0l1vprIT8Xc6"
      },
      "execution_count": 14,
      "outputs": []
    },
    {
      "cell_type": "code",
      "source": [
        "# Main function to orchestrate the process.\n",
        "\n",
        "def main():\n",
        "    \"\"\"\n",
        "    Main function to run the entire process.\n",
        "    \"\"\"\n",
        "    # Load the data\n",
        "    x_train, y_train, x_test, y_test = load_data()\n",
        "\n",
        "    # Split into labeled and unlabeled sets\n",
        "    x_labeled, x_unlabeled, y_labeled = split_data(x_train, y_train)\n",
        "\n",
        "    # Create and train the initial model on labeled data\n",
        "    model = create_model()\n",
        "    history = train_model(model, x_labeled, y_labeled, x_test, y_test)\n",
        "\n",
        "    # Generate pseudo-labels for the unlabeled data\n",
        "    x_pseudo, y_pseudo = generate_pseudo_labels(model, x_unlabeled)\n",
        "\n",
        "    # Augment the pseudo-labeled data\n",
        "    x_pseudo_aug = augment_data(x_pseudo)\n",
        "\n",
        "    # Combine labeled and pseudo-labeled data\n",
        "    x_combined, y_combined = combine_data(x_labeled, y_labeled, x_pseudo_aug, y_pseudo)\n",
        "\n",
        "    # Retrain the model with the combined dataset\n",
        "    model = create_model()\n",
        "    history_pseudo = retrain_model(model, x_combined, y_combined, x_test, y_test)\n",
        "\n",
        "    # Evaluate the model\n",
        "    evaluate_model(model, x_test, y_test)\n",
        "\n",
        "    # Plot the accuracy comparison\n",
        "    plot_accuracy(history, history_pseudo)"
      ],
      "metadata": {
        "id": "LczBqeLP80Jm"
      },
      "execution_count": 15,
      "outputs": []
    },
    {
      "cell_type": "code",
      "source": [
        "main()"
      ],
      "metadata": {
        "colab": {
          "base_uri": "https://localhost:8080/",
          "height": 1000
        },
        "id": "j-IAiHcP9BC-",
        "outputId": "3779aefd-aa94-416d-ae2b-1bc59ef78b64"
      },
      "execution_count": 16,
      "outputs": [
        {
          "output_type": "stream",
          "name": "stdout",
          "text": [
            "Training model on labeled data...\n",
            "Epoch 1/15\n"
          ]
        },
        {
          "output_type": "stream",
          "name": "stderr",
          "text": [
            "/usr/local/lib/python3.11/dist-packages/keras/src/layers/core/dense.py:87: UserWarning: Do not pass an `input_shape`/`input_dim` argument to a layer. When using Sequential models, prefer using an `Input(shape)` object as the first layer in the model instead.\n",
            "  super().__init__(activity_regularizer=activity_regularizer, **kwargs)\n"
          ]
        },
        {
          "output_type": "stream",
          "name": "stdout",
          "text": [
            "\u001b[1m32/32\u001b[0m \u001b[32m━━━━━━━━━━━━━━━━━━━━\u001b[0m\u001b[37m\u001b[0m \u001b[1m3s\u001b[0m 55ms/step - accuracy: 0.3763 - loss: 1.8169 - val_accuracy: 0.8404 - val_loss: 0.5912\n",
            "Epoch 2/15\n",
            "\u001b[1m32/32\u001b[0m \u001b[32m━━━━━━━━━━━━━━━━━━━━\u001b[0m\u001b[37m\u001b[0m \u001b[1m1s\u001b[0m 46ms/step - accuracy: 0.7948 - loss: 0.6448 - val_accuracy: 0.8678 - val_loss: 0.4432\n",
            "Epoch 3/15\n",
            "\u001b[1m32/32\u001b[0m \u001b[32m━━━━━━━━━━━━━━━━━━━━\u001b[0m\u001b[37m\u001b[0m \u001b[1m3s\u001b[0m 55ms/step - accuracy: 0.8778 - loss: 0.3948 - val_accuracy: 0.8858 - val_loss: 0.3771\n",
            "Epoch 4/15\n",
            "\u001b[1m32/32\u001b[0m \u001b[32m━━━━━━━━━━━━━━━━━━━━\u001b[0m\u001b[37m\u001b[0m \u001b[1m4s\u001b[0m 101ms/step - accuracy: 0.8957 - loss: 0.3242 - val_accuracy: 0.8938 - val_loss: 0.3574\n",
            "Epoch 5/15\n",
            "\u001b[1m32/32\u001b[0m \u001b[32m━━━━━━━━━━━━━━━━━━━━\u001b[0m\u001b[37m\u001b[0m \u001b[1m4s\u001b[0m 52ms/step - accuracy: 0.9305 - loss: 0.2163 - val_accuracy: 0.9014 - val_loss: 0.3282\n",
            "Epoch 6/15\n",
            "\u001b[1m32/32\u001b[0m \u001b[32m━━━━━━━━━━━━━━━━━━━━\u001b[0m\u001b[37m\u001b[0m \u001b[1m3s\u001b[0m 52ms/step - accuracy: 0.9522 - loss: 0.1380 - val_accuracy: 0.8885 - val_loss: 0.3848\n",
            "Epoch 7/15\n",
            "\u001b[1m32/32\u001b[0m \u001b[32m━━━━━━━━━━━━━━━━━━━━\u001b[0m\u001b[37m\u001b[0m \u001b[1m2s\u001b[0m 52ms/step - accuracy: 0.9550 - loss: 0.1361 - val_accuracy: 0.9043 - val_loss: 0.3390\n",
            "Epoch 8/15\n",
            "\u001b[1m32/32\u001b[0m \u001b[32m━━━━━━━━━━━━━━━━━━━━\u001b[0m\u001b[37m\u001b[0m \u001b[1m4s\u001b[0m 98ms/step - accuracy: 0.9822 - loss: 0.0828 - val_accuracy: 0.8973 - val_loss: 0.3561\n",
            "Epoch 9/15\n",
            "\u001b[1m32/32\u001b[0m \u001b[32m━━━━━━━━━━━━━━━━━━━━\u001b[0m\u001b[37m\u001b[0m \u001b[1m2s\u001b[0m 52ms/step - accuracy: 0.9548 - loss: 0.1174 - val_accuracy: 0.9038 - val_loss: 0.3541\n",
            "Epoch 10/15\n",
            "\u001b[1m32/32\u001b[0m \u001b[32m━━━━━━━━━━━━━━━━━━━━\u001b[0m\u001b[37m\u001b[0m \u001b[1m1s\u001b[0m 45ms/step - accuracy: 0.9932 - loss: 0.0454 - val_accuracy: 0.9097 - val_loss: 0.3328\n",
            "Epoch 11/15\n",
            "\u001b[1m32/32\u001b[0m \u001b[32m━━━━━━━━━━━━━━━━━━━━\u001b[0m\u001b[37m\u001b[0m \u001b[1m3s\u001b[0m 52ms/step - accuracy: 0.9844 - loss: 0.0493 - val_accuracy: 0.9083 - val_loss: 0.3357\n",
            "Epoch 12/15\n",
            "\u001b[1m32/32\u001b[0m \u001b[32m━━━━━━━━━━━━━━━━━━━━\u001b[0m\u001b[37m\u001b[0m \u001b[1m1s\u001b[0m 42ms/step - accuracy: 0.9925 - loss: 0.0314 - val_accuracy: 0.9136 - val_loss: 0.3245\n",
            "Epoch 13/15\n",
            "\u001b[1m32/32\u001b[0m \u001b[32m━━━━━━━━━━━━━━━━━━━━\u001b[0m\u001b[37m\u001b[0m \u001b[1m3s\u001b[0m 51ms/step - accuracy: 0.9938 - loss: 0.0256 - val_accuracy: 0.9166 - val_loss: 0.3182\n",
            "Epoch 14/15\n",
            "\u001b[1m32/32\u001b[0m \u001b[32m━━━━━━━━━━━━━━━━━━━━\u001b[0m\u001b[37m\u001b[0m \u001b[1m3s\u001b[0m 99ms/step - accuracy: 0.9967 - loss: 0.0292 - val_accuracy: 0.9079 - val_loss: 0.3670\n",
            "Epoch 15/15\n",
            "\u001b[1m32/32\u001b[0m \u001b[32m━━━━━━━━━━━━━━━━━━━━\u001b[0m\u001b[37m\u001b[0m \u001b[1m1s\u001b[0m 44ms/step - accuracy: 0.9922 - loss: 0.0303 - val_accuracy: 0.9129 - val_loss: 0.3255\n",
            "Generating pseudo-labels...\n",
            "\u001b[1m1844/1844\u001b[0m \u001b[32m━━━━━━━━━━━━━━━━━━━━\u001b[0m\u001b[37m\u001b[0m \u001b[1m6s\u001b[0m 3ms/step\n",
            "Applying data augmentation...\n",
            "Combining labeled and pseudo-labeled datasets...\n",
            "Retraining model with labeled and pseudo-labeled data...\n",
            "Epoch 1/15\n",
            "\u001b[1m1692/1692\u001b[0m \u001b[32m━━━━━━━━━━━━━━━━━━━━\u001b[0m\u001b[37m\u001b[0m \u001b[1m28s\u001b[0m 15ms/step - accuracy: 0.7636 - loss: 0.7208 - val_accuracy: 0.9489 - val_loss: 0.1642\n",
            "Epoch 2/15\n",
            "\u001b[1m1692/1692\u001b[0m \u001b[32m━━━━━━━━━━━━━━━━━━━━\u001b[0m\u001b[37m\u001b[0m \u001b[1m22s\u001b[0m 13ms/step - accuracy: 0.9280 - loss: 0.2324 - val_accuracy: 0.9366 - val_loss: 0.1976\n",
            "Epoch 3/15\n",
            "\u001b[1m1692/1692\u001b[0m \u001b[32m━━━━━━━━━━━━━━━━━━━━\u001b[0m\u001b[37m\u001b[0m \u001b[1m21s\u001b[0m 12ms/step - accuracy: 0.9384 - loss: 0.1967 - val_accuracy: 0.9495 - val_loss: 0.1620\n",
            "Epoch 4/15\n",
            "\u001b[1m1692/1692\u001b[0m \u001b[32m━━━━━━━━━━━━━━━━━━━━\u001b[0m\u001b[37m\u001b[0m \u001b[1m20s\u001b[0m 12ms/step - accuracy: 0.9470 - loss: 0.1720 - val_accuracy: 0.9573 - val_loss: 0.1390\n",
            "Epoch 5/15\n",
            "\u001b[1m1692/1692\u001b[0m \u001b[32m━━━━━━━━━━━━━━━━━━━━\u001b[0m\u001b[37m\u001b[0m \u001b[1m22s\u001b[0m 13ms/step - accuracy: 0.9515 - loss: 0.1513 - val_accuracy: 0.9523 - val_loss: 0.1564\n",
            "Epoch 6/15\n",
            "\u001b[1m1692/1692\u001b[0m \u001b[32m━━━━━━━━━━━━━━━━━━━━\u001b[0m\u001b[37m\u001b[0m \u001b[1m40s\u001b[0m 12ms/step - accuracy: 0.9564 - loss: 0.1372 - val_accuracy: 0.9532 - val_loss: 0.1539\n",
            "Epoch 7/15\n",
            "\u001b[1m1692/1692\u001b[0m \u001b[32m━━━━━━━━━━━━━━━━━━━━\u001b[0m\u001b[37m\u001b[0m \u001b[1m24s\u001b[0m 14ms/step - accuracy: 0.9577 - loss: 0.1321 - val_accuracy: 0.9542 - val_loss: 0.1556\n",
            "Epoch 8/15\n",
            "\u001b[1m1692/1692\u001b[0m \u001b[32m━━━━━━━━━━━━━━━━━━━━\u001b[0m\u001b[37m\u001b[0m \u001b[1m22s\u001b[0m 13ms/step - accuracy: 0.9625 - loss: 0.1202 - val_accuracy: 0.9482 - val_loss: 0.1810\n",
            "Epoch 9/15\n",
            "\u001b[1m1692/1692\u001b[0m \u001b[32m━━━━━━━━━━━━━━━━━━━━\u001b[0m\u001b[37m\u001b[0m \u001b[1m20s\u001b[0m 12ms/step - accuracy: 0.9608 - loss: 0.1190 - val_accuracy: 0.9548 - val_loss: 0.1522\n",
            "Epoch 10/15\n",
            "\u001b[1m1692/1692\u001b[0m \u001b[32m━━━━━━━━━━━━━━━━━━━━\u001b[0m\u001b[37m\u001b[0m \u001b[1m20s\u001b[0m 12ms/step - accuracy: 0.9641 - loss: 0.1101 - val_accuracy: 0.9535 - val_loss: 0.1700\n",
            "Epoch 11/15\n",
            "\u001b[1m1692/1692\u001b[0m \u001b[32m━━━━━━━━━━━━━━━━━━━━\u001b[0m\u001b[37m\u001b[0m \u001b[1m20s\u001b[0m 11ms/step - accuracy: 0.9652 - loss: 0.1057 - val_accuracy: 0.9516 - val_loss: 0.1648\n",
            "Epoch 12/15\n",
            "\u001b[1m1692/1692\u001b[0m \u001b[32m━━━━━━━━━━━━━━━━━━━━\u001b[0m\u001b[37m\u001b[0m \u001b[1m22s\u001b[0m 13ms/step - accuracy: 0.9671 - loss: 0.0979 - val_accuracy: 0.9517 - val_loss: 0.1807\n",
            "Epoch 13/15\n",
            "\u001b[1m1692/1692\u001b[0m \u001b[32m━━━━━━━━━━━━━━━━━━━━\u001b[0m\u001b[37m\u001b[0m \u001b[1m22s\u001b[0m 13ms/step - accuracy: 0.9686 - loss: 0.0989 - val_accuracy: 0.9490 - val_loss: 0.1951\n",
            "Epoch 14/15\n",
            "\u001b[1m1692/1692\u001b[0m \u001b[32m━━━━━━━━━━━━━━━━━━━━\u001b[0m\u001b[37m\u001b[0m \u001b[1m20s\u001b[0m 12ms/step - accuracy: 0.9698 - loss: 0.0918 - val_accuracy: 0.9508 - val_loss: 0.1873\n",
            "Epoch 15/15\n",
            "\u001b[1m1692/1692\u001b[0m \u001b[32m━━━━━━━━━━━━━━━━━━━━\u001b[0m\u001b[37m\u001b[0m \u001b[1m21s\u001b[0m 12ms/step - accuracy: 0.9701 - loss: 0.0889 - val_accuracy: 0.9528 - val_loss: 0.1800\n",
            "Evaluating final model...\n",
            "313/313 - 1s - 4ms/step - accuracy: 0.9528 - loss: 0.1800\n",
            "Final test accuracy: 0.9528\n"
          ]
        },
        {
          "output_type": "display_data",
          "data": {
            "text/plain": [
              "<Figure size 800x500 with 1 Axes>"
            ],
            "image/png": "[encoded data removed]"
          },
          "metadata": {}
        }
      ]
    }
  ]
}